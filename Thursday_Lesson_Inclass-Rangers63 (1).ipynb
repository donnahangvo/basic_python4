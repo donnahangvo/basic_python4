{
 "cells": [
  {
   "cell_type": "markdown",
   "metadata": {},
   "source": [
    "# Object-Oriented-Programming (OOP)"
   ]
  },
  {
   "cell_type": "markdown",
   "metadata": {},
   "source": [
    "## Tasks Today:\n",
    "\n",
    "   \n",
    "\n",
    "1) <b>Creating a Class (Initializing/Declaring)</b> <br>\n",
    "2) <b>Using a Class (Instantiating)</b> <br>\n",
    " &nbsp;&nbsp;&nbsp;&nbsp; a) Creating One Instance <br>\n",
    " &nbsp;&nbsp;&nbsp;&nbsp; b) Creating Multiple Instances <br>\n",
    " &nbsp;&nbsp;&nbsp;&nbsp; c) In-Class Exercise #1 - Create a Class 'Car' and instantiate three different makes of cars <br>\n",
    "3) <b>The \\__init\\__() Method</b> <br>\n",
    " &nbsp;&nbsp;&nbsp;&nbsp; a) The 'self' Attribute <br>\n",
    "4) <b>Class Attributes</b> <br>\n",
    " &nbsp;&nbsp;&nbsp;&nbsp; a) Initializing Attributes <br>\n",
    " &nbsp;&nbsp;&nbsp;&nbsp; b) Setting an Attribute Outside of the \\__init\\__() Method <br>\n",
    " &nbsp;&nbsp;&nbsp;&nbsp; c) Setting Defaults for Attributes <br>\n",
    " &nbsp;&nbsp;&nbsp;&nbsp; d) Accessing Class Attributes <br>\n",
    " &nbsp;&nbsp;&nbsp;&nbsp; e) Changing Class Attributes <br>\n",
    " &nbsp;&nbsp;&nbsp;&nbsp; f) In-Class Exercise #2 - Add a color and wheels attribute to your 'Car' class <br>\n",
    "5) <b>Class Methods</b> <br>\n",
    " &nbsp;&nbsp;&nbsp;&nbsp; a) Creating <br>\n",
    " &nbsp;&nbsp;&nbsp;&nbsp; b) Calling <br>\n",
    " &nbsp;&nbsp;&nbsp;&nbsp; c) Modifying an Attribute's Value Through a Method <br>\n",
    " &nbsp;&nbsp;&nbsp;&nbsp; d) Incrementing an Attribute's Value Through a Method <br>\n",
    " &nbsp;&nbsp;&nbsp;&nbsp; e) In-Class Exercise #3 - Add a method that prints the cars color and wheel number, then call them <br>\n",
    "6) <b>Inheritance</b> <br>\n",
    " &nbsp;&nbsp;&nbsp;&nbsp; a) Syntax for Inheriting from a Parent Class <br>\n",
    " &nbsp;&nbsp;&nbsp;&nbsp; b) The \\__init\\__() Method for a Child Class (super()) <br>\n",
    " &nbsp;&nbsp;&nbsp;&nbsp; c) Defining Attributes and Methods for the Child Class <br>\n",
    " &nbsp;&nbsp;&nbsp;&nbsp; d) Method Overriding <br>\n",
    " &nbsp;&nbsp;&nbsp;&nbsp; e) In-Class Exercise #4 - Create a class 'Ford' that inherits from 'Car' class and initialize it as a Blue Ford Explorer with 4 wheels using the super() method <br>\n",
    "7) <b>Classes as Attributes</b> <br>\n",
    "8) <b>Exercises</b> <br>\n",
    " &nbsp;&nbsp;&nbsp;&nbsp; a) Exercise #1 - Turn the shopping cart program from yesterday into an object-oriented program <br>"
   ]
  },
  {
   "cell_type": "markdown",
   "metadata": {},
   "source": [
    "## Creating a Class (Initializing/Declaring)\n",
    "<p>When creating a class, function, or even a variable you are initializing that object. Initializing and Declaring occur at the same time in Python, whereas in lower level languages you have to declare an object before initializing it. This is the first step in the process of using a class.</p>"
   ]
  },
  {
   "cell_type": "code",
   "execution_count": 16,
   "metadata": {},
   "outputs": [
    {
     "name": "stdout",
     "output_type": "stream",
     "text": [
      "<bound method Car.headlights of <__main__.Car object at 0x00000209F4B34280>>\n"
     ]
    }
   ],
   "source": [
    "# identify classes with the first letter capitalized\n",
    "class Car():\n",
    "    wheels = 4\n",
    "    color = 'blue'\n",
    "    windshield_wipers = 'wee woo wee woo'\n",
    "    \n",
    "    def headlights():\n",
    "        print('Turn them on for safety, do not crash into a moose')\n",
    "    \n",
    "volkswagon = Car()\n",
    "volkswagon.headlights()"
   ]
  },
  {
   "cell_type": "markdown",
   "metadata": {},
   "source": [
    "## Using a Class (Instantiating)\n",
    "<p>The process of creating a class is called <i>Instantiating</i>. Each time you create a variable of that type of class, it is referred to as an <i>Instance</i> of that class. This is the second step in the process of using a class.</p>"
   ]
  },
  {
   "cell_type": "markdown",
   "metadata": {},
   "source": [
    "##### Creating One Instance"
   ]
  },
  {
   "cell_type": "code",
   "execution_count": 11,
   "metadata": {},
   "outputs": [
    {
     "name": "stdout",
     "output_type": "stream",
     "text": [
      "blue\n",
      "wee woo wee woo\n"
     ]
    },
    {
     "ename": "AttributeError",
     "evalue": "'Car' object has no attribute 'windshield'",
     "output_type": "error",
     "traceback": [
      "\u001b[1;31m---------------------------------------------------------------------------\u001b[0m",
      "\u001b[1;31mAttributeError\u001b[0m                            Traceback (most recent call last)",
      "Cell \u001b[1;32mIn[11], line 9\u001b[0m\n\u001b[0;32m      6\u001b[0m \u001b[38;5;28mprint\u001b[39m(ford\u001b[38;5;241m.\u001b[39mwindshield_wipers)\n\u001b[0;32m      8\u001b[0m \u001b[38;5;66;03m# can not run because it is not identified in class\u001b[39;00m\n\u001b[1;32m----> 9\u001b[0m \u001b[38;5;28mprint\u001b[39m(\u001b[43mford\u001b[49m\u001b[38;5;241;43m.\u001b[39;49m\u001b[43mwindshield\u001b[49m)\n",
      "\u001b[1;31mAttributeError\u001b[0m: 'Car' object has no attribute 'windshield'"
     ]
    }
   ],
   "source": [
    "# instantiating a class is also an instance\n",
    "ford = Car()\n",
    "\n",
    "print(ford.color)\n",
    "\n",
    "print(ford.windshield_wipers)\n",
    "\n",
    "# can not run because it is not identified in class\n",
    "print(ford.windshield)"
   ]
  },
  {
   "cell_type": "markdown",
   "metadata": {},
   "source": [
    "##### Creating Multiple Instances"
   ]
  },
  {
   "cell_type": "code",
   "execution_count": 4,
   "metadata": {},
   "outputs": [
    {
     "name": "stdout",
     "output_type": "stream",
     "text": [
      "<class 'str'>\n"
     ]
    }
   ],
   "source": [
    "# these instances all have attributes in the class that they are identified with\n",
    "chevrolet = Car()\n",
    "honda = Car()\n",
    "porsche = Car()\n",
    "\n",
    "print(type(porsche.color))\n"
   ]
  },
  {
   "cell_type": "markdown",
   "metadata": {},
   "source": [
    "##### In-Class Exercise #1 - Create a Class 'Car' and Instantiate three different makes of cars"
   ]
  },
  {
   "cell_type": "code",
   "execution_count": 7,
   "metadata": {},
   "outputs": [
    {
     "name": "stdout",
     "output_type": "stream",
     "text": [
      "vroom vroom\n",
      "red\n",
      "4\n"
     ]
    }
   ],
   "source": [
    "class Car():\n",
    "    doors = 4\n",
    "    color = 'red'\n",
    "    wheels = 4\n",
    "    engine = 'vroom vroom'\n",
    "    \n",
    "mercedes = Car()\n",
    "lexus = Car()\n",
    "toyota = Car()\n",
    "\n",
    "print(mercedes.engine)\n",
    "print(lexus.color)\n",
    "print(toyota.doors)"
   ]
  },
  {
   "cell_type": "markdown",
   "metadata": {},
   "source": [
    "## The \\__init\\__() Method <br>\n",
    "<p>This method is used in almost every created class, and called only once upon the creation of the class instance. This method will initialize all variables needed for the object.</p>"
   ]
  },
  {
   "cell_type": "code",
   "execution_count": 19,
   "metadata": {},
   "outputs": [
    {
     "name": "stdout",
     "output_type": "stream",
     "text": [
      "4.7L\n",
      "black\n",
      "4\n",
      "4.7L\n",
      "blue\n",
      "6\n"
     ]
    }
   ],
   "source": [
    "# a method is a function inside of a class\n",
    "# can only use one init method per class\n",
    "\n",
    "class Car():\n",
    "    engine = '4.7L' #Global within class - any method inside the class can call upon this variable\n",
    "\n",
    "    def __init__(self, color, wheels): #double underscore init double underscore\n",
    "        self.color = color\n",
    "        self.wheels = wheels    \n",
    "            \n",
    "        \n",
    "mazda = Car('black', 4)\n",
    "suburu = Car('blue', 6)\n",
    "    \n",
    "print(mazda.engine)\n",
    "print(mazda.color)\n",
    "print(mazda.wheels)\n",
    "\n",
    "print(suburu.engine)\n",
    "print(suburu.color)\n",
    "print(suburu.wheels)\n",
    "\n",
    "\n"
   ]
  },
  {
   "cell_type": "markdown",
   "metadata": {},
   "source": [
    "##### The 'self' Attribute <br>\n",
    "<p>This attribute is required to keep track of specific instance's attributes. Without the self attribute, the program would not know how to reference or keep track of an instance's attributes.</p>"
   ]
  },
  {
   "cell_type": "code",
   "execution_count": 20,
   "metadata": {},
   "outputs": [
    {
     "ename": "TypeError",
     "evalue": "Car.__init__() takes 2 positional arguments but 3 were given",
     "output_type": "error",
     "traceback": [
      "\u001b[1;31m---------------------------------------------------------------------------\u001b[0m",
      "\u001b[1;31mTypeError\u001b[0m                                 Traceback (most recent call last)",
      "Cell \u001b[1;32mIn[20], line 13\u001b[0m\n\u001b[0;32m      9\u001b[0m         color \u001b[38;5;241m=\u001b[39m color\n\u001b[0;32m     10\u001b[0m         wheels \u001b[38;5;241m=\u001b[39m wheels    \n\u001b[1;32m---> 13\u001b[0m mazda \u001b[38;5;241m=\u001b[39m \u001b[43mCar\u001b[49m\u001b[43m(\u001b[49m\u001b[38;5;124;43m'\u001b[39;49m\u001b[38;5;124;43mblack\u001b[39;49m\u001b[38;5;124;43m'\u001b[39;49m\u001b[43m,\u001b[49m\u001b[43m \u001b[49m\u001b[38;5;241;43m4\u001b[39;49m\u001b[43m)\u001b[49m\n\u001b[0;32m     14\u001b[0m suburu \u001b[38;5;241m=\u001b[39m Car(\u001b[38;5;124m'\u001b[39m\u001b[38;5;124mblue\u001b[39m\u001b[38;5;124m'\u001b[39m, \u001b[38;5;241m6\u001b[39m)\n\u001b[0;32m     16\u001b[0m \u001b[38;5;28mprint\u001b[39m(mazda\u001b[38;5;241m.\u001b[39mengine)\n",
      "\u001b[1;31mTypeError\u001b[0m: Car.__init__() takes 2 positional arguments but 3 were given"
     ]
    }
   ],
   "source": [
    "# see above\n",
    "\n",
    "# why self is important\n",
    "\n",
    "class Car():\n",
    "    engine = '4.7L' #Global within class - any method inside the class can call upon this variable\n",
    "\n",
    "    def __init__(color, wheels): #double underscore init double underscore\n",
    "        color = color\n",
    "        wheels = wheels    \n",
    "            \n",
    "        \n",
    "mazda = Car('black', 4)\n",
    "suburu = Car('blue', 6)\n",
    "    \n",
    "print(mazda.engine)\n",
    "print(mazda.color)\n",
    "print(mazda.wheels)\n",
    "\n",
    "print(suburu.engine)\n",
    "print(suburu.color)\n",
    "print(suburu.wheels)"
   ]
  },
  {
   "cell_type": "code",
   "execution_count": 39,
   "metadata": {},
   "outputs": [
    {
     "name": "stdout",
     "output_type": "stream",
     "text": [
      "Clean\n",
      "rock on, climber!\n"
     ]
    }
   ],
   "source": [
    "class House():\n",
    "    \n",
    "    def __init__(self, wall, dishes):\n",
    "        self.wall = wall\n",
    "        self.dishes = dishes\n",
    "        \n",
    "    def washDishes(self):\n",
    "        if self.dishes.lower() == 'dirty':\n",
    "            return 'Clean'\n",
    "    def rockClimbingWall(self, wall):\n",
    "        if self.wall.lower() == 'yes':\n",
    "            return 'rock on, climber!'\n",
    "        else:\n",
    "            return 'why on earth would you not want a rockclimbing wall in your house'\n",
    "        \n",
    "brandon_house = House('yes', 'dirty')\n",
    "\n",
    "print(brandon_house.washDishes())\n",
    "print(brandon_house.rockClimbingWall('Yes'))"
   ]
  },
  {
   "cell_type": "code",
   "execution_count": 41,
   "metadata": {},
   "outputs": [
    {
     "name": "stdout",
     "output_type": "stream",
     "text": [
      "None\n",
      "why on earth would you not want a rockclimbing wall in your house\n"
     ]
    }
   ],
   "source": [
    "class House():\n",
    "    \n",
    "    def __init__(self, wall, dishes):\n",
    "        self.wall = wall\n",
    "        self.dishes = dishes\n",
    "        \n",
    "    def washDishes(self):\n",
    "        if self.dishes.lower() == 'dirty':\n",
    "            print (self.wall)\n",
    "        \n",
    "    def rockClimbingWall(self):\n",
    "        if self.wall.lower() == 'yes':\n",
    "            return 'rock on, climber!'\n",
    "        else:\n",
    "            return 'why on earth would you not want a rockclimbing wall in your house'\n",
    "        \n",
    "brandon_house = House('dirty', 'no')\n",
    "\n",
    "print(brandon_house.washDishes())\n",
    "print(brandon_house.rockClimbingWall())"
   ]
  },
  {
   "cell_type": "markdown",
   "metadata": {},
   "source": [
    "## Class Attributes <br>\n",
    "<p>While variables are inside of a class, they are referred to as attributes and not variables. When someone says 'attribute' you know they're speaking about a class. Attributes can be initialized through the init method, or outside of it.</p>"
   ]
  },
  {
   "cell_type": "markdown",
   "metadata": {},
   "source": [
    "##### Initializing Attributes"
   ]
  },
  {
   "cell_type": "code",
   "execution_count": 24,
   "metadata": {},
   "outputs": [],
   "source": [
    "# see above\n",
    "\n",
    "class Toy():\n",
    "    kind = 'car' #This is called a constant\n",
    "    \n",
    "    def __init__(self, rooftop, horn, wheels):\n",
    "        self.rooftop = rooftop #These are our attributes\n",
    "        self.horn = horn\n",
    "        self.wheels = wheels\n",
    "        \n",
    "tonka_truck = Toy(1,1,4) # 1 rooftop, 1 horn, 4 wheels\n",
    "hotwheels_car = Toy(2,3,8) # 2 rooftops, 3 horns, 8 wheels\n"
   ]
  },
  {
   "cell_type": "markdown",
   "metadata": {},
   "source": [
    "##### Accessing Class Attributes"
   ]
  },
  {
   "cell_type": "code",
   "execution_count": 26,
   "metadata": {
    "scrolled": true
   },
   "outputs": [
    {
     "name": "stdout",
     "output_type": "stream",
     "text": [
      "1\n",
      "8\n"
     ]
    }
   ],
   "source": [
    "# See Above\n",
    "\n",
    "print(tonka_truck.rooftop)\n",
    "print(hotwheels_car.wheels)"
   ]
  },
  {
   "cell_type": "markdown",
   "metadata": {},
   "source": [
    "##### Setting Defaults for Attributes"
   ]
  },
  {
   "cell_type": "code",
   "execution_count": 30,
   "metadata": {},
   "outputs": [
    {
     "name": "stdout",
     "output_type": "stream",
     "text": [
      "Blue\n"
     ]
    }
   ],
   "source": [
    "class Car():\n",
    "    engine = '4.7L'\n",
    "    \n",
    "    def __init__(self, wheels):\n",
    "        self.wheels = wheels\n",
    "        self.color = 'Blue'\n",
    "        \n",
    "honda = Car(4)\n",
    "print(honda.color)"
   ]
  },
  {
   "cell_type": "markdown",
   "metadata": {},
   "source": [
    "##### Changing Class Attributes <br>\n",
    "<p>Keep in mind there are global class attributes and then there are attributes only available to each class instance which won't effect other classes.</p>"
   ]
  },
  {
   "cell_type": "code",
   "execution_count": 33,
   "metadata": {},
   "outputs": [
    {
     "name": "stdout",
     "output_type": "stream",
     "text": [
      "Before change: Blue\n",
      "\n",
      "After Change: White\n"
     ]
    }
   ],
   "source": [
    "jeep = Car(8)\n",
    "    \n",
    "print(f'Before change: {jeep.color}')\n",
    "\n",
    "jeep.color = 'White'\n",
    "\n",
    "print(f'\\nAfter Change: {jeep.color}')"
   ]
  },
  {
   "cell_type": "code",
   "execution_count": null,
   "metadata": {},
   "outputs": [],
   "source": []
  },
  {
   "cell_type": "markdown",
   "metadata": {},
   "source": [
    "##### In-Class Exercise #2 - Add a doors and seats attribute to your 'Car' class then print out two different instances with different doors and seats"
   ]
  },
  {
   "cell_type": "code",
   "execution_count": 45,
   "metadata": {},
   "outputs": [
    {
     "name": "stdout",
     "output_type": "stream",
     "text": [
      "Toyota seats: 2 and Toyota doors 2\n",
      "Porsche seats: 2 and Porsche doors 2\n"
     ]
    }
   ],
   "source": [
    "class Car():\n",
    "    \n",
    "    def __init__(self, doors, seats = 4):\n",
    "        self.doors = doors\n",
    "        self.seats = seats\n",
    "\n",
    "toyota = Car(2,2)\n",
    "porsche = Car(4)\n",
    "\n",
    "print(f'Toyota seats: {toyota.seats} and Toyota doors {toyota.doors}')\n",
    "print(f'Porsche seats: {toyota.seats} and Porsche doors {toyota.doors}')"
   ]
  },
  {
   "cell_type": "markdown",
   "metadata": {},
   "source": [
    "## Class Methods <br>\n",
    "<p>While inside of a class, functions are referred to as 'methods'. If you hear someone mention methods, they're speaking about classes. Methods are essentially functions, but only callable on the instances of a class.</p>"
   ]
  },
  {
   "cell_type": "markdown",
   "metadata": {},
   "source": [
    "##### Creating"
   ]
  },
  {
   "cell_type": "code",
   "execution_count": 69,
   "metadata": {},
   "outputs": [],
   "source": [
    "# method only refers to classes\n",
    "# methods are essentially functions that operate only in a class\n",
    "\n",
    "class ShoppingBag():\n",
    "    \n",
    "    \"\"\"\n",
    "    The ShoppingBag class will have handles, capactiy,\n",
    "    and items to place inside.\n",
    "    \n",
    "    Attributes for the class:\n",
    "    - handles: expected to be an integer\n",
    "    - capacity: expected to be a string OR and integer\n",
    "    - items: expected to be a list\n",
    "    \"\"\"\n",
    "    def __init__(self, handles, capacity, items):\n",
    "        self.handles = handles\n",
    "        self.capacity = capacity\n",
    "        self.items = items\n",
    "        \n",
    "#         Write a method that shoes the items in out ShoppingBag / this is out items list\n",
    "\n",
    "    def showShoppingBag(self):\n",
    "        print('You have items in your shopping bag!')\n",
    "        for item in self.items:\n",
    "            print(item)\n",
    "        \n",
    "#     Show the capacity of ShoppingBag - how much room is left\n",
    "\n",
    "    def showCapacity(self):\n",
    "        print(f'Your capacity is : {self.capacity}')\n",
    "\n",
    "#     Add item(s) to the items list for the ShoppingBag\n",
    "\n",
    "    def addToShoppingBag(self):\n",
    "        products = input('What would you like to add?')\n",
    "        self.items.append(products)\n",
    "        \n",
    "#     Change the capacity of the ShoppingBag\n",
    "\n",
    "    def changeBagCapacity(self, capacity):\n",
    "        self.capacity = capacity\n",
    "        \n",
    "#     Increase the capacity of the ShoppingBag by a default amount that we set to 10\n",
    "\n",
    "    def increaseCapacity(self, changed_capacity = 10):\n",
    "        if self.capacity == isinstance(self.capacity, str):\n",
    "            print(\"We can't add that here\")\n",
    "        else:\n",
    "            self.capacity += changed_capacity\n",
    "            "
   ]
  },
  {
   "cell_type": "markdown",
   "metadata": {},
   "source": [
    "##### Calling"
   ]
  },
  {
   "cell_type": "code",
   "execution_count": 70,
   "metadata": {},
   "outputs": [
    {
     "name": "stdout",
     "output_type": "stream",
     "text": [
      "What do you want to do? add/show/quit add\n",
      "What would you like to add?milk\n",
      "What do you want to do? add/show/quit grapes\n",
      "Try another command\n",
      "What do you want to do? add/show/quit books\n",
      "Try another command\n",
      "What do you want to do? add/show/quit show\n",
      "You have items in your shopping bag!\n",
      "milk\n",
      "What do you want to do? add/show/quit quit\n",
      "You have items in your shopping bag!\n",
      "milk\n",
      "Thanks for shopping\n"
     ]
    }
   ],
   "source": [
    "# See Above\n",
    "# So far, we have created the idea of the shopping bag; now we will actually instantiate and MAKE one, and use it!\n",
    "\n",
    "wholeFoods_bag = ShoppingBag(2,10,[])\n",
    "\n",
    "# Create a function to run the ShoppingBag methods on our wholeFoods_bag instance\n",
    "\n",
    "def run():\n",
    "    \n",
    "    while True:\n",
    "        response = input('What do you want to do? add/show/quit ')\n",
    "        \n",
    "        if response.lower() == 'quit':\n",
    "            wholeFoods_bag.showShoppingBag()\n",
    "            print('Thanks for shopping')\n",
    "            break\n",
    "        elif response.lower() == 'add':\n",
    "            wholeFoods_bag.addToShoppingBag()\n",
    "        elif response.lower() == 'show':\n",
    "            wholeFoods_bag.showShoppingBag()\n",
    "        else:\n",
    "            print('Try another command')\n",
    "            \n",
    "run()"
   ]
  },
  {
   "cell_type": "markdown",
   "metadata": {},
   "source": [
    "##### Modifying an Attribute's Value Through a Method"
   ]
  },
  {
   "cell_type": "code",
   "execution_count": 71,
   "metadata": {},
   "outputs": [
    {
     "name": "stdout",
     "output_type": "stream",
     "text": [
      "Your capacity is : 10\n",
      "Capacity AFTER the change...\n",
      "Your capacity is : 40\n"
     ]
    }
   ],
   "source": [
    "# Show the capacity\n",
    "wholeFoods_bag.showCapacity()\n",
    "print('Capacity AFTER the change...')\n",
    "wholeFoods_bag.changeBagCapacity(40)\n",
    "wholeFoods_bag.showCapacity()"
   ]
  },
  {
   "cell_type": "markdown",
   "metadata": {},
   "source": [
    "##### Incrementing an Attribute's Value Through a Method"
   ]
  },
  {
   "cell_type": "code",
   "execution_count": 72,
   "metadata": {},
   "outputs": [
    {
     "name": "stdout",
     "output_type": "stream",
     "text": [
      "Your capacity is : 40\n",
      "After Increase:\n",
      "Your capacity is : 50\n"
     ]
    }
   ],
   "source": [
    "wholeFoods_bag.showCapacity()\n",
    "print('After Increase:')\n",
    "wholeFoods_bag.increaseCapacity()\n",
    "wholeFoods_bag.showCapacity()"
   ]
  },
  {
   "cell_type": "markdown",
   "metadata": {},
   "source": [
    "##### In-Class Exercise #3 - Add a method that takes in three parameters of year, doors and seats and prints out a formatted print statement with make, model, year, seats, and doors"
   ]
  },
  {
   "cell_type": "code",
   "execution_count": 13,
   "metadata": {},
   "outputs": [],
   "source": [
    "# Create class with 2 parameters inside of the __init__ which are make and model\n",
    "\n",
    "# Inside of the Car class create a method that has 4 parameter in total (self,year,door,seats)\n",
    "\n",
    "# Output: This car is from 2019 and is a Ford Expolorer and has 4 doors and 5 seats (add another function)\n",
    "\n",
    "class CarModel():\n",
    "    \n",
    "    def __init__(self, make, model, year, doors, seats):\n",
    "        self.make = make\n",
    "        self.model = model\n",
    "        self.year = year\n",
    "        self.doors = doors\n",
    "        self.seats = seats\n",
    "        \n",
    "    def showCarModel(self):\n",
    "        print(f'This car is from {self.year} and is a {self.make} {self.model} and has {self.doors} and {self.seats}')\n",
    "    \n",
    "    def showMake(self):\n",
    "        print(f'The make of this car is : {self.make}')\n",
    "              \n",
    "    def showModel(self):\n",
    "        print(f'The model of this car is : {self.model}')    \n",
    "              \n",
    "    def showYear(self):\n",
    "        print(f'The year of this car model is : {self.year}')\n",
    "        \n",
    "    def showDoors(self):\n",
    "        print(f'There are {self.doors} on this car')\n",
    "        \n",
    "    def showSeats(self):\n",
    "        print(f'There are {self.seats} in this car')\n",
    "              \n",
    "ford = CarModel('Ford', 'Explorer', 2019, '4 doors', '5 seats')\n",
    "    \n",
    "    "
   ]
  },
  {
   "cell_type": "code",
   "execution_count": 21,
   "metadata": {},
   "outputs": [
    {
     "name": "stdout",
     "output_type": "stream",
     "text": [
      "What would you like to know? car/make/model/year/doors/seatscar\n",
      "This car is from 2019 and is a Ford Explorer and has 4 doors and 5 seats\n"
     ]
    }
   ],
   "source": [
    "def cars():\n",
    "    \n",
    "    while True:\n",
    "        response = input('What would you like to know? car/make/model/year/doors/seats')\n",
    "        \n",
    "        if response.lower() == 'car':\n",
    "            return ford.showCarModel()\n",
    "        \n",
    "        elif response.lower() == 'make':\n",
    "            return ford.showMake()\n",
    "\n",
    "        elif response.lower() == 'model':\n",
    "            return ford.showModel()\n",
    "        \n",
    "        elif response.lower() == 'year':\n",
    "            return ford.showYear()\n",
    "        \n",
    "        elif response.lower() == 'doors':\n",
    "            return ford.showDoors()\n",
    "        \n",
    "        elif response.lower() == 'seats':\n",
    "            return ford.showSeats()\n",
    "        \n",
    "        else:\n",
    "            print('Try another command')\n",
    "            \n",
    "cars()"
   ]
  },
  {
   "cell_type": "markdown",
   "metadata": {},
   "source": [
    "## Inheritance <br>\n",
    "<p>You can create a child-parent relationship between two classes by using inheritance. What this allows you to do is have overriding methods, but also inherit traits from the parent class. Think of it as an actual parent and child, the child will inherit the parent's genes, as will the classes in OOP</p>"
   ]
  },
  {
   "cell_type": "markdown",
   "metadata": {},
   "source": [
    "##### Syntax for Inheriting from a Parent Class"
   ]
  },
  {
   "cell_type": "code",
   "execution_count": 80,
   "metadata": {},
   "outputs": [
    {
     "name": "stdout",
     "output_type": "stream",
     "text": [
      "Bark\n",
      "Make some generic sound\n",
      "None\n",
      "9.8\n",
      "15\n"
     ]
    },
    {
     "ename": "NameError",
     "evalue": "name 'basic_anime' is not defined",
     "output_type": "error",
     "traceback": [
      "\u001b[1;31m---------------------------------------------------------------------------\u001b[0m",
      "\u001b[1;31mNameError\u001b[0m                                 Traceback (most recent call last)",
      "Cell \u001b[1;32mIn[80], line 50\u001b[0m\n\u001b[0;32m     48\u001b[0m \u001b[38;5;28mprint\u001b[39m(buster\u001b[38;5;241m.\u001b[39macceleration)\n\u001b[0;32m     49\u001b[0m \u001b[38;5;28mprint\u001b[39m(buster\u001b[38;5;241m.\u001b[39mspeed)\n\u001b[1;32m---> 50\u001b[0m \u001b[38;5;28mprint\u001b[39m(\u001b[43mbasic_anime\u001b[49m\u001b[38;5;241m.\u001b[39mspeed)\n",
      "\u001b[1;31mNameError\u001b[0m: name 'basic_anime' is not defined"
     ]
    }
   ],
   "source": [
    "# OOP = object oriented programming\n",
    "\n",
    "# Create a parent class and call it Animal\n",
    "\n",
    "class Animal():\n",
    "    acceleration = 9.8\n",
    "    \n",
    "    def __init__(self, name, species, legs = 4):\n",
    "        self.name = name\n",
    "        self.specia = species\n",
    "        self.legs = legs\n",
    "        \n",
    "#     Generic Parent Method - This is not overriding anything\n",
    "    def makeSound(self):\n",
    "        print('Make some generic sound')\n",
    "        \n",
    "# Now we are making our child class... Dog\n",
    "\n",
    "class Dog(Animal):\n",
    "    speed = 15\n",
    "    \n",
    "    def printInfo(self):\n",
    "        print(f'The Dog has {self.speed} mph in speed and {self.acceleration}')\n",
    "        \n",
    "# Creation of out Grand-Child Class == Mutt\n",
    "\n",
    "class Mutt(Dog):\n",
    "    color = 'Tan'\n",
    "    \n",
    "    #Override the ANIMAL class - using the Dog class to overwrite the __init__ from Animal\n",
    "    \n",
    "    def __init__(self, name, species, eye_color, legs = 4):\n",
    "        Dog.__init__(self, name, species, legs)\n",
    "        self.eye_color = eye_color\n",
    "        \n",
    "    #Override the makeSound method (which is coming from...ANIMAL)\n",
    "    \n",
    "    def makeSound(self):\n",
    "        noise = 'Bark'\n",
    "        return noise\n",
    "    \n",
    "lassie = Dog('Lassie', 'Dog')\n",
    "basic_animal = Animal('Generic Animal Name', 'Generic Animal Species')\n",
    "buster = Mutt('Buster', 'Mutt', 'Brown')\n",
    "\n",
    "print(buster.makeSound())\n",
    "print(lassie.makeSound())\n",
    "print(buster.acceleration)\n",
    "print(buster.speed)\n",
    "print(basic_anime.speed)"
   ]
  },
  {
   "cell_type": "markdown",
   "metadata": {},
   "source": [
    "##### The \\__init\\__() Method for a Child Class - super()"
   ]
  },
  {
   "cell_type": "code",
   "execution_count": 81,
   "metadata": {
    "scrolled": true
   },
   "outputs": [
    {
     "name": "stdout",
     "output_type": "stream",
     "text": [
      "Bark\n",
      "Make some generic sound\n",
      "None\n",
      "9.8\n",
      "15\n"
     ]
    }
   ],
   "source": [
    "class Puppy(Dog):\n",
    "    color = 'black and brown'\n",
    "    \n",
    "    #Override the Animal class __init__ (via Dog class)\n",
    "    def __init__(self, name, species, eye_color, legs = 4):\n",
    "        super().__init__(name, species, legs)\n",
    "        self.eye_color = eye_color\n",
    "    \n",
    "    #Override the makeSound method\n",
    "    def makeSound(self):\n",
    "        noise = 'Bark'\n",
    "        return noise\n",
    "    \n",
    "lassie = Dog('Lassie', 'Dog')\n",
    "basic_animal = Animal('Generic Animal Name', 'Generic Animal Species')\n",
    "buster = Mutt('Buster', 'Mutt', 'Brown')\n",
    "\n",
    "print(buster.makeSound())\n",
    "print(lassie.makeSound())\n",
    "print(buster.acceleration)\n",
    "print(buster.speed)\n",
    "\n",
    "\n",
    "# using super().__init__ goes all way back to the top tier class"
   ]
  },
  {
   "cell_type": "markdown",
   "metadata": {},
   "source": [
    "##### Defining Attributes and Methods for the Child Class"
   ]
  },
  {
   "cell_type": "code",
   "execution_count": null,
   "metadata": {},
   "outputs": [],
   "source": [
    "# See Above"
   ]
  },
  {
   "cell_type": "markdown",
   "metadata": {},
   "source": [
    "##### Method Overriding"
   ]
  },
  {
   "cell_type": "code",
   "execution_count": null,
   "metadata": {},
   "outputs": [],
   "source": [
    "# See Above"
   ]
  },
  {
   "cell_type": "markdown",
   "metadata": {},
   "source": [
    "## Classes as Attributes <br>\n",
    "<p>Classes can also be used as attributes within another class. This is useful in situations where you need to keep variables locally stored, instead of globally stored.</p>"
   ]
  },
  {
   "cell_type": "code",
   "execution_count": 83,
   "metadata": {},
   "outputs": [
    {
     "name": "stdout",
     "output_type": "stream",
     "text": [
      "20\n"
     ]
    },
    {
     "data": {
      "text/plain": [
       "'2019 Tesla 20'"
      ]
     },
     "execution_count": 83,
     "metadata": {},
     "output_type": "execute_result"
    }
   ],
   "source": [
    "class Battery():\n",
    "    volts = 7.8\n",
    "    \n",
    "    def __init__(self, cells):\n",
    "        self.cells = cells\n",
    "        \n",
    "class Car():\n",
    "    def __init__(self, year, make, model, battery):\n",
    "        self.year = year\n",
    "        self.make = make\n",
    "        self.model = model\n",
    "        self.battery = battery\n",
    "        \n",
    "    def printInfo(self):\n",
    "        return f'{self.year} {self.make} {self.battery.cells}'\n",
    "    \n",
    "my_battery = Battery(20)\n",
    "\n",
    "tesla = Car(2019, 'Tesla', 'Model X', my_battery)\n",
    "\n",
    "print(tesla.battery.cells)\n",
    "tesla.printInfo()"
   ]
  },
  {
   "cell_type": "markdown",
   "metadata": {},
   "source": [
    "# Exercises"
   ]
  },
  {
   "cell_type": "markdown",
   "metadata": {},
   "source": [
    "### Exercise 1 - Turn the shopping cart program from yesterday into an object-oriented program\n",
    "\n",
    "The comments in the cell below are there as a guide for thinking about the problem. However, if you feel a different way is best for you and your own thought process, please do what feels best for you by all means."
   ]
  },
  {
   "cell_type": "code",
   "execution_count": 32,
   "metadata": {},
   "outputs": [],
   "source": [
    "# Create a class called cart that retains items and has methods to add, remove, and show\n",
    "# Creating methods for Cart()\n",
    "\n",
    "class Cart():\n",
    "    \n",
    "    '''\n",
    "    The Cart class provides a way to add, delete, modify, and show items in a shopping bag by providng the item and a quanity.\n",
    "    '''\n",
    "\n",
    "    def __init__(self, cart, item, quantity):\n",
    "        self.cart = cart\n",
    "        self.item = item\n",
    "        self.quantity = quantity\n",
    "        \n",
    "        self.cart = {}\n",
    "\n",
    "    def addCart(self):\n",
    "        self.item = input('item')\n",
    "        self.quantity = input('quantity')\n",
    "        self.cart[self.item]= self.quantity  \n",
    "        \n",
    "    def delCart(self):\n",
    "        self.item = input('item')\n",
    "        del self.cart[self.item]\n",
    "            \n",
    "    def modCart(self):\n",
    "        self.item = input('item')\n",
    "        self.quantity = input('quantity')\n",
    "        self.cart.update({self.item : self.quantity})\n",
    "        \n",
    "    def showCart(self):\n",
    "        print('Your cart contains:'+ str(self.cart))\n",
    "        \n",
    "    def quitCart(self):\n",
    "        print('Thank you for shopping with us! Your cart contains: ' + str(self.cart))\n",
    "       \n",
    "        "
   ]
  },
  {
   "cell_type": "code",
   "execution_count": 35,
   "metadata": {},
   "outputs": [
    {
     "name": "stdout",
     "output_type": "stream",
     "text": [
      "What would you like to do? add/delete/modify/show/quit add\n",
      "itembooks\n",
      "quantity10\n",
      "What would you like to do? add/delete/modify/show/quit add\n",
      "itemblankets\n",
      "quantity10\n",
      "What would you like to do? add/delete/modify/show/quit add\n",
      "itemsocks\n",
      "quantity2\n",
      "What would you like to do? add/delete/modify/show/quit add\n",
      "itemplushies\n",
      "quantity20\n",
      "What would you like to do? add/delete/modify/show/quit show\n",
      "Your cart contains:{'books': '10', 'blankets': '10', 'socks': '2', 'plushies': '20'}\n",
      "What would you like to do? add/delete/modify/show/quit add\n",
      "itempencil\n",
      "quantity2\n",
      "What would you like to do? add/delete/modify/show/quit show\n",
      "Your cart contains:{'books': '10', 'blankets': '10', 'socks': '2', 'plushies': '20', 'pencil': '2'}\n",
      "What would you like to do? add/delete/modify/show/quit delete\n",
      "itempencil\n",
      "What would you like to do? add/delete/modify/show/quit modify\n",
      "itemplushies\n",
      "quantity30\n",
      "What would you like to do? add/delete/modify/show/quit quit\n",
      "Thank you for shopping with us! Your cart contains: {'books': '10', 'blankets': '10', 'socks': '2', 'plushies': '30'}\n"
     ]
    }
   ],
   "source": [
    "# Instantiating methods for cart\n",
    "\n",
    "Shopping = Cart('empty_cart', 'item', 'quantity')\n",
    "\n",
    "def shop():\n",
    "    \n",
    "    while True:\n",
    "        response = input ('What would you like to do? add/delete/modify/show/quit ')\n",
    "        \n",
    "        if response.lower() == 'add':\n",
    "            Shopping.addCart()\n",
    "        \n",
    "        elif response.lower() == 'delete':\n",
    "            Shopping.delCart()\n",
    "            \n",
    "        elif response.lower() == 'modify':\n",
    "            Shopping.modCart()\n",
    "        \n",
    "        elif response.lower() == 'show':\n",
    "            Shopping.showCart()\n",
    "            \n",
    "        elif response.lower() == 'quit':\n",
    "            Shopping.quitCart()\n",
    "            break\n",
    "            \n",
    "shop()       "
   ]
  },
  {
   "cell_type": "code",
   "execution_count": null,
   "metadata": {},
   "outputs": [],
   "source": [
    "# PLEASE IGNORE MY BRAIN DUMP\n",
    "\n",
    "# def shopping_cart():\n",
    "    \n",
    "#     cart = {}\n",
    "    \n",
    "#     while True:\n",
    "#         response = input ('What would you like to do? add/delete/modify/show/quit ')\n",
    "        \n",
    "#         if response.lower() == 'add':\n",
    "#             item = input('item')\n",
    "#             quantity = input('quantity')\n",
    "#             cart[item]= quantity      \n",
    "        \n",
    "#         elif response.lower() == 'delete':\n",
    "#             item = input('item')\n",
    "#             del cart[item]\n",
    "        \n",
    "#         elif response.lower() == 'modify':\n",
    "#             item = input('item')\n",
    "#             quantity = input('quantity')\n",
    "#             cart.update({item : quantity})\n",
    "        \n",
    "#         elif response.lower() == 'show':\n",
    "#             print('Your cart contains:'+ str(cart))\n",
    "        \n",
    "#         elif response.lower() == 'quit':\n",
    "#             print('Thank you for shopping with us! Your cart contains: ' + str(cart))\n",
    "#             break\n",
    "            \n",
    "# shopping_cart()\n",
    "\n",
    "\n",
    "# def run():\n",
    "    \n",
    "#     while True:\n",
    "#         response = input('What do you want to do? add/show/quit ')\n",
    "        \n",
    "#         if response.lower() == 'quit':\n",
    "#             wholeFoods_bag.showShoppingBag()\n",
    "#             print('Thanks for shopping')\n",
    "#             break\n",
    "#         elif response.lower() == 'add':\n",
    "#             wholeFoods_bag.addToShoppingBag()\n",
    "#         elif response.lower() == 'show':\n",
    "#             wholeFoods_bag.showShoppingBag()\n",
    "#         else:\n",
    "#             print('Try another command')\n",
    "            \n",
    "# run()\n",
    "\n",
    "\n",
    "#     def showShoppingBag(self):\n",
    "#         print('You have items in your shopping bag!')\n",
    "#         for item in self.items:\n",
    "#             print(item)\n",
    "        \n",
    "# #     Show the capacity of ShoppingBag - how much room is left\n",
    "\n",
    "#     def showCapacity(self):\n",
    "#         print(f'Your capacity is : {self.capacity}')\n",
    "\n",
    "# #     Add item(s) to the items list for the ShoppingBag\n",
    "\n",
    "#     def addToShoppingBag(self):\n",
    "#         products = input('What would you like to add?')\n",
    "#         self.items.append(products)\n",
    "        \n",
    "# #     Change the capacity of the ShoppingBag\n",
    "\n",
    "#     def changeBagCapacity(self, capacity):\n",
    "#         self.capacity = capacity\n",
    "        \n",
    "# #     Increase the capacity of the ShoppingBag by a default amount that we set to 10\n",
    "\n",
    "#     def increaseCapacity(self, changed_capacity = 10):\n",
    "#         if self.capacity == isinstance(self.capacity, str):\n",
    "#             print(\"We can't add that here\")\n",
    "#         else:\n",
    "#             self.capacity += changed_capacity\n",
    "            \n",
    "\n",
    "\n",
    "    "
   ]
  },
  {
   "cell_type": "markdown",
   "metadata": {},
   "source": [
    "### Exercise 2 - Write a Python class which has two methods get_String and print_String. get_String accept a string from the user and print_String print the string in upper case"
   ]
  },
  {
   "cell_type": "code",
   "execution_count": null,
   "metadata": {},
   "outputs": [
    {
     "name": "stdout",
     "output_type": "stream",
     "text": [
      "Shall we begin? yes/no yes\n",
      "What would you like to add?this is a string\n",
      "THIS IS A STRING\n",
      "None\n"
     ]
    }
   ],
   "source": [
    "class String():\n",
    "    \n",
    "    def __init__(self, string):\n",
    "        self.string = string\n",
    "        \n",
    "    def get_String(self):\n",
    "        self.string = input('What would you like to add?')\n",
    "        \n",
    "    def print_String(self):\n",
    "        print(self.string.upper())\n",
    "\n",
    "StringStart = String('string')\n",
    "\n",
    "\n",
    "def runString():\n",
    "    \n",
    "    while True:\n",
    "        \n",
    "        response = input('Shall we begin? yes/no ')\n",
    "        \n",
    "        if response.lower() == 'yes':\n",
    "            StringStart.get_String()\n",
    "            print(StringStart.print_String())\n",
    "        \n",
    "        if response.lower() == 'no':\n",
    "            print('Have a nice day.')\n",
    "            break\n",
    "            \n",
    "    \n",
    "runString()"
   ]
  },
  {
   "cell_type": "code",
   "execution_count": null,
   "metadata": {},
   "outputs": [],
   "source": []
  }
 ],
 "metadata": {
  "kernelspec": {
   "display_name": "Python 3 (ipykernel)",
   "language": "python",
   "name": "python3"
  },
  "language_info": {
   "codemirror_mode": {
    "name": "ipython",
    "version": 3
   },
   "file_extension": ".py",
   "mimetype": "text/x-python",
   "name": "python",
   "nbconvert_exporter": "python",
   "pygments_lexer": "ipython3",
   "version": "3.10.9"
  }
 },
 "nbformat": 4,
 "nbformat_minor": 2
}
